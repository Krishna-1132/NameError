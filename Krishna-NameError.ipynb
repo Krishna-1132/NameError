{
 "cells": [
  {
   "cell_type": "markdown",
   "metadata": {},
   "source": [
    "# PART A\n",
    "\n",
    "Write a function that takes a list of strings an prints them, one per line, in a rectangular frame. For example the list [\"Hello\", \"World\", \"in\", \"a\", \"frame\"] gets printed as:\n",
    "*********\n",
    "* Hello *\n",
    "* World *\n",
    "* in    *\n",
    "* a     *\n",
    "* frame *\n",
    "*********"
   ]
  },
  {
   "cell_type": "code",
   "execution_count": 1,
   "metadata": {},
   "outputs": [
    {
     "name": "stdout",
     "output_type": "stream",
     "text": [
      "Enter the String = Data science is awesome\n",
      "\n",
      "The Entered String is in a Frame \n",
      "\n",
      "*********\n",
      "*Data   *\n",
      "*science*\n",
      "*is     *\n",
      "*awesome*\n",
      "*********\n"
     ]
    }
   ],
   "source": [
    "l=input(\"Enter the String = \")     #Takes the input of the user in the form of string\n",
    "m=l.split()                        #Splits the string and store it in m in the form of list\n",
    "size=len(max(m,key=len))           #max gives the maximum length of the word entered store in size\n",
    "print(\"\\nThe Entered String is in a Frame \\n\") #print to show the frame\n",
    "print(\"*\"*(size+2))                #Print * till maximum length + 2 because to form frame \n",
    "for i in m:                        #for loop for traversing in list according to index wise\n",
    "    print(\"*\"+i+\" \"*(size - len(i))+\"*\") #first * and then prints One word and then space till the print word - maximum length of word and then prints *\n",
    "print(\"*\"*(size+2))                 #Print * till maximum length + 2 because to form frame "
   ]
  },
  {
   "cell_type": "markdown",
   "metadata": {},
   "source": [
    "# PART B\n",
    "\n",
    "Develop a Python program to print all Prime numbers in a given Interval (Interval values should be user defined)"
   ]
  },
  {
   "cell_type": "code",
   "execution_count": 4,
   "metadata": {},
   "outputs": [
    {
     "name": "stdout",
     "output_type": "stream",
     "text": [
      "enter the lower number = 10\n",
      "enter the upper number = 20\n",
      "\n",
      " The Prime numbers between the interval 10 and 20 are\n",
      "11\n",
      "13\n",
      "17\n",
      "19\n"
     ]
    }
   ],
   "source": [
    "x=int(input(\"enter the lower number = \")) #takes input from user the starting number\n",
    "y=int(input(\"enter the upper number = \")) #takes input from user the ending number\n",
    "print(\"\\n The Prime numbers between the interval {} and {} are\".format(x,y))  # The range entered by user the starting and ending number\n",
    "for num in range(x,y+1):                 #for loop for each condition according to range given\n",
    "    if num>1:                            #As 1 is neither prime and nor compositie and to take geater than 1 and not negative number\n",
    "        for i in range(2,num):           #this will give all the number from the given range expect the current number \n",
    "            if (num%i)==0:               #checking the condition for the number so that it is divisble by others or not\n",
    "                break                   # if it is divisble by other number than the statement will break and it will be out of loop\n",
    "        else:                           #if it is divisble then\n",
    "            print(num)                   #the number is printed"
   ]
  }
 ],
 "metadata": {
  "kernelspec": {
   "display_name": "Python 3",
   "language": "python",
   "name": "python3"
  },
  "language_info": {
   "codemirror_mode": {
    "name": "ipython",
    "version": 3
   },
   "file_extension": ".py",
   "mimetype": "text/x-python",
   "name": "python",
   "nbconvert_exporter": "python",
   "pygments_lexer": "ipython3",
   "version": "3.7.6"
  }
 },
 "nbformat": 4,
 "nbformat_minor": 4
}
